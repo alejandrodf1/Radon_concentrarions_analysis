{
 "cells": [
  {
   "cell_type": "markdown",
   "metadata": {},
   "source": [
    "# Generalized lineal model"
   ]
  },
  {
   "cell_type": "code",
   "execution_count": 16,
   "metadata": {},
   "outputs": [],
   "source": [
    "\n",
    "#import machine_learning_fundamentals.utils.paths as path\n",
    "import pandas as pd\n",
    "import numpy as np\n",
    "import seaborn as sns\n",
    "import random\n",
    "import matplotlib.pyplot as plt\n",
    "from sklearn.linear_model import LinearRegression\n",
    "from sklearn.model_selection import train_test_split #to divide the data\n",
    "from sklearn import preprocessing\n",
    "from scipy import stats\n",
    "import pingouin as pg"
   ]
  },
  {
   "cell_type": "code",
   "execution_count": 15,
   "metadata": {},
   "outputs": [
    {
     "name": "stdout",
     "output_type": "stream",
     "text": [
      "Collecting pingouin\n",
      "  Downloading pingouin-0.5.2.tar.gz (185 kB)\n",
      "\u001b[2K     \u001b[90m━━━━━━━━━━━━━━━━━━━━━━━━━━━━━━━━━━━━━\u001b[0m \u001b[32m185.4/185.4 kB\u001b[0m \u001b[31m104.0 kB/s\u001b[0m eta \u001b[36m0:00:00\u001b[0m00:01\u001b[0m00:01\u001b[0m\n",
      "\u001b[?25h  Preparing metadata (setup.py) ... \u001b[?25ldone\n",
      "\u001b[?25hRequirement already satisfied: numpy>=1.19 in /home/alejandrodf1/anaconda3/envs/teoria_project/lib/python3.7/site-packages (from pingouin) (1.21.6)\n",
      "Requirement already satisfied: scipy>=1.7 in /home/alejandrodf1/anaconda3/envs/teoria_project/lib/python3.7/site-packages (from pingouin) (1.7.3)\n",
      "Requirement already satisfied: pandas>=1.0 in /home/alejandrodf1/anaconda3/envs/teoria_project/lib/python3.7/site-packages (from pingouin) (1.3.5)\n",
      "Requirement already satisfied: matplotlib>=3.0.2 in /home/alejandrodf1/anaconda3/envs/teoria_project/lib/python3.7/site-packages (from pingouin) (3.5.3)\n",
      "Requirement already satisfied: seaborn>=0.11 in /home/alejandrodf1/anaconda3/envs/teoria_project/lib/python3.7/site-packages (from pingouin) (0.11.2)\n",
      "Requirement already satisfied: statsmodels>=0.13 in /home/alejandrodf1/anaconda3/envs/teoria_project/lib/python3.7/site-packages (from pingouin) (0.13.2)\n",
      "Requirement already satisfied: scikit-learn<1.1.0 in /home/alejandrodf1/anaconda3/envs/teoria_project/lib/python3.7/site-packages (from pingouin) (1.0.2)\n",
      "Requirement already satisfied: pandas_flavor>=0.2.0 in /home/alejandrodf1/anaconda3/envs/teoria_project/lib/python3.7/site-packages (from pingouin) (0.2.0)\n",
      "Collecting outdated\n",
      "  Downloading outdated-0.2.1-py3-none-any.whl (7.5 kB)\n",
      "Collecting tabulate\n",
      "  Downloading tabulate-0.8.10-py3-none-any.whl (29 kB)\n",
      "Requirement already satisfied: fonttools>=4.22.0 in /home/alejandrodf1/anaconda3/envs/teoria_project/lib/python3.7/site-packages (from matplotlib>=3.0.2->pingouin) (4.37.1)\n",
      "Requirement already satisfied: kiwisolver>=1.0.1 in /home/alejandrodf1/anaconda3/envs/teoria_project/lib/python3.7/site-packages (from matplotlib>=3.0.2->pingouin) (1.4.4)\n",
      "Requirement already satisfied: python-dateutil>=2.7 in /home/alejandrodf1/anaconda3/envs/teoria_project/lib/python3.7/site-packages (from matplotlib>=3.0.2->pingouin) (2.8.2)\n",
      "Requirement already satisfied: cycler>=0.10 in /home/alejandrodf1/anaconda3/envs/teoria_project/lib/python3.7/site-packages (from matplotlib>=3.0.2->pingouin) (0.11.0)\n",
      "Requirement already satisfied: packaging>=20.0 in /home/alejandrodf1/anaconda3/envs/teoria_project/lib/python3.7/site-packages (from matplotlib>=3.0.2->pingouin) (21.3)\n",
      "Requirement already satisfied: pyparsing>=2.2.1 in /home/alejandrodf1/anaconda3/envs/teoria_project/lib/python3.7/site-packages (from matplotlib>=3.0.2->pingouin) (3.0.9)\n",
      "Requirement already satisfied: pillow>=6.2.0 in /home/alejandrodf1/anaconda3/envs/teoria_project/lib/python3.7/site-packages (from matplotlib>=3.0.2->pingouin) (9.2.0)\n",
      "Requirement already satisfied: pytz>=2017.3 in /home/alejandrodf1/anaconda3/envs/teoria_project/lib/python3.7/site-packages (from pandas>=1.0->pingouin) (2022.2.1)\n",
      "Requirement already satisfied: xarray in /home/alejandrodf1/anaconda3/envs/teoria_project/lib/python3.7/site-packages (from pandas_flavor>=0.2.0->pingouin) (0.20.2)\n",
      "Requirement already satisfied: joblib>=0.11 in /home/alejandrodf1/anaconda3/envs/teoria_project/lib/python3.7/site-packages (from scikit-learn<1.1.0->pingouin) (1.1.0)\n",
      "Requirement already satisfied: threadpoolctl>=2.0.0 in /home/alejandrodf1/anaconda3/envs/teoria_project/lib/python3.7/site-packages (from scikit-learn<1.1.0->pingouin) (3.1.0)\n",
      "Requirement already satisfied: patsy>=0.5.2 in /home/alejandrodf1/anaconda3/envs/teoria_project/lib/python3.7/site-packages (from statsmodels>=0.13->pingouin) (0.5.2)\n",
      "Collecting littleutils\n",
      "  Downloading littleutils-0.2.2.tar.gz (6.6 kB)\n",
      "  Preparing metadata (setup.py) ... \u001b[?25ldone\n",
      "\u001b[?25hRequirement already satisfied: requests in /home/alejandrodf1/anaconda3/envs/teoria_project/lib/python3.7/site-packages (from outdated->pingouin) (2.28.1)\n",
      "Requirement already satisfied: typing-extensions in /home/alejandrodf1/anaconda3/envs/teoria_project/lib/python3.7/site-packages (from kiwisolver>=1.0.1->matplotlib>=3.0.2->pingouin) (4.3.0)\n",
      "Requirement already satisfied: six in /home/alejandrodf1/anaconda3/envs/teoria_project/lib/python3.7/site-packages (from patsy>=0.5.2->statsmodels>=0.13->pingouin) (1.16.0)\n",
      "Requirement already satisfied: certifi>=2017.4.17 in /home/alejandrodf1/anaconda3/envs/teoria_project/lib/python3.7/site-packages (from requests->outdated->pingouin) (2022.6.15)\n",
      "Requirement already satisfied: idna<4,>=2.5 in /home/alejandrodf1/anaconda3/envs/teoria_project/lib/python3.7/site-packages (from requests->outdated->pingouin) (3.3)\n",
      "Requirement already satisfied: urllib3<1.27,>=1.21.1 in /home/alejandrodf1/anaconda3/envs/teoria_project/lib/python3.7/site-packages (from requests->outdated->pingouin) (1.26.11)\n",
      "Requirement already satisfied: charset-normalizer<3,>=2 in /home/alejandrodf1/anaconda3/envs/teoria_project/lib/python3.7/site-packages (from requests->outdated->pingouin) (2.1.1)\n",
      "Requirement already satisfied: importlib-metadata in /home/alejandrodf1/anaconda3/envs/teoria_project/lib/python3.7/site-packages (from xarray->pandas_flavor>=0.2.0->pingouin) (4.11.4)\n",
      "Requirement already satisfied: zipp>=0.5 in /home/alejandrodf1/anaconda3/envs/teoria_project/lib/python3.7/site-packages (from importlib-metadata->xarray->pandas_flavor>=0.2.0->pingouin) (3.8.1)\n",
      "Building wheels for collected packages: pingouin, littleutils\n",
      "  Building wheel for pingouin (setup.py) ... \u001b[?25ldone\n",
      "\u001b[?25h  Created wheel for pingouin: filename=pingouin-0.5.2-py3-none-any.whl size=196190 sha256=a8434f1f64b6a51ef43cccc6bed01b67a575f94ec5117211622dfadf2c39cba5\n",
      "  Stored in directory: /home/alejandrodf1/.cache/pip/wheels/11/5a/63/a6d32fc26fa462c731f65480bfb98ff7bd39b8ebcb4bc6c2fe\n",
      "  Building wheel for littleutils (setup.py) ... \u001b[?25ldone\n",
      "\u001b[?25h  Created wheel for littleutils: filename=littleutils-0.2.2-py3-none-any.whl size=7028 sha256=ddfc9aaf28f3ae715c1d424c4021e3cf0de2ea6fc27a8342cdb17cdf53c180b4\n",
      "  Stored in directory: /home/alejandrodf1/.cache/pip/wheels/d6/64/cd/32819b511a488e4993f2fab909a95330289c3f4e0f6ef4676d\n",
      "Successfully built pingouin littleutils\n",
      "Installing collected packages: littleutils, tabulate, outdated, pingouin\n",
      "Successfully installed littleutils-0.2.2 outdated-0.2.1 pingouin-0.5.2 tabulate-0.8.10\n"
     ]
    }
   ],
   "source": [
    "#!pip install pingouin "
   ]
  },
  {
   "cell_type": "code",
   "execution_count": 78,
   "metadata": {},
   "outputs": [],
   "source": [
    "data = pd.read_csv('/home/alejandrodf1/Documents/radon_project/radon_project/data/raw/radon11_n.csv', sep=';')  #we get the data"
   ]
  },
  {
   "cell_type": "code",
   "execution_count": 73,
   "metadata": {},
   "outputs": [
    {
     "data": {
      "text/html": [
       "<div>\n",
       "<style scoped>\n",
       "    .dataframe tbody tr th:only-of-type {\n",
       "        vertical-align: middle;\n",
       "    }\n",
       "\n",
       "    .dataframe tbody tr th {\n",
       "        vertical-align: top;\n",
       "    }\n",
       "\n",
       "    .dataframe thead th {\n",
       "        text-align: right;\n",
       "    }\n",
       "</style>\n",
       "<table border=\"1\" class=\"dataframe\">\n",
       "  <thead>\n",
       "    <tr style=\"text-align: right;\">\n",
       "      <th></th>\n",
       "      <th>Casa</th>\n",
       "      <th>house_code</th>\n",
       "      <th>hour</th>\n",
       "      <th>day</th>\n",
       "      <th>Hora</th>\n",
       "      <th>[]_RADON_(pCi/L)</th>\n",
       "      <th>[]_RADON_(Bq/m3)</th>\n",
       "      <th>effective_dose_[mSv/y]</th>\n",
       "      <th>20_hours_effective_dose_[mSv]</th>\n",
       "      <th>Temperatura_(C)</th>\n",
       "      <th>clima</th>\n",
       "      <th>age</th>\n",
       "      <th>ventilacion</th>\n",
       "      <th>time_period</th>\n",
       "    </tr>\n",
       "  </thead>\n",
       "  <tbody>\n",
       "    <tr>\n",
       "      <th>0</th>\n",
       "      <td>pat 37</td>\n",
       "      <td>P-01</td>\n",
       "      <td>1.0</td>\n",
       "      <td>03/08/2022</td>\n",
       "      <td>10:00:00</td>\n",
       "      <td>0.70</td>\n",
       "      <td>25.90</td>\n",
       "      <td>0.44030</td>\n",
       "      <td>0.459170</td>\n",
       "      <td>23.8</td>\n",
       "      <td>soleado</td>\n",
       "      <td>old</td>\n",
       "      <td>medium</td>\n",
       "      <td>morning</td>\n",
       "    </tr>\n",
       "    <tr>\n",
       "      <th>1</th>\n",
       "      <td>pat 37</td>\n",
       "      <td>P-01</td>\n",
       "      <td>2.0</td>\n",
       "      <td>03/08/2022</td>\n",
       "      <td>11:00:00</td>\n",
       "      <td>0.72</td>\n",
       "      <td>26.64</td>\n",
       "      <td>0.45288</td>\n",
       "      <td>0.472289</td>\n",
       "      <td>23.8</td>\n",
       "      <td>soleado</td>\n",
       "      <td>old</td>\n",
       "      <td>medium</td>\n",
       "      <td>morning</td>\n",
       "    </tr>\n",
       "    <tr>\n",
       "      <th>2</th>\n",
       "      <td>pat 37</td>\n",
       "      <td>P-01</td>\n",
       "      <td>3.0</td>\n",
       "      <td>03/08/2022</td>\n",
       "      <td>12:00:00</td>\n",
       "      <td>0.67</td>\n",
       "      <td>24.79</td>\n",
       "      <td>0.42143</td>\n",
       "      <td>0.439491</td>\n",
       "      <td>21.1</td>\n",
       "      <td>soleado</td>\n",
       "      <td>old</td>\n",
       "      <td>medium</td>\n",
       "      <td>afternoon</td>\n",
       "    </tr>\n",
       "    <tr>\n",
       "      <th>3</th>\n",
       "      <td>pat 37</td>\n",
       "      <td>P-01</td>\n",
       "      <td>4.0</td>\n",
       "      <td>03/08/2022</td>\n",
       "      <td>13:00:00</td>\n",
       "      <td>0.64</td>\n",
       "      <td>23.68</td>\n",
       "      <td>0.40256</td>\n",
       "      <td>0.419813</td>\n",
       "      <td>21.2</td>\n",
       "      <td>Soleado</td>\n",
       "      <td>old</td>\n",
       "      <td>medium</td>\n",
       "      <td>afternoon</td>\n",
       "    </tr>\n",
       "    <tr>\n",
       "      <th>4</th>\n",
       "      <td>pat 37</td>\n",
       "      <td>P-01</td>\n",
       "      <td>5.0</td>\n",
       "      <td>03/08/2022</td>\n",
       "      <td>14:00:00</td>\n",
       "      <td>0.70</td>\n",
       "      <td>25.90</td>\n",
       "      <td>0.44030</td>\n",
       "      <td>0.459170</td>\n",
       "      <td>21.3</td>\n",
       "      <td>Soleado</td>\n",
       "      <td>old</td>\n",
       "      <td>medium</td>\n",
       "      <td>afternoon</td>\n",
       "    </tr>\n",
       "  </tbody>\n",
       "</table>\n",
       "</div>"
      ],
      "text/plain": [
       "     Casa house_code  hour         day      Hora  []_RADON_(pCi/L)  \\\n",
       "0  pat 37       P-01   1.0  03/08/2022  10:00:00              0.70   \n",
       "1  pat 37       P-01   2.0  03/08/2022  11:00:00              0.72   \n",
       "2  pat 37       P-01   3.0  03/08/2022  12:00:00              0.67   \n",
       "3  pat 37       P-01   4.0  03/08/2022  13:00:00              0.64   \n",
       "4  pat 37       P-01   5.0  03/08/2022  14:00:00              0.70   \n",
       "\n",
       "   []_RADON_(Bq/m3)  effective_dose_[mSv/y]  20_hours_effective_dose_[mSv]  \\\n",
       "0             25.90                 0.44030                       0.459170   \n",
       "1             26.64                 0.45288                       0.472289   \n",
       "2             24.79                 0.42143                       0.439491   \n",
       "3             23.68                 0.40256                       0.419813   \n",
       "4             25.90                 0.44030                       0.459170   \n",
       "\n",
       "   Temperatura_(C)     clima  age ventilacion time_period  \n",
       "0             23.8   soleado  old      medium     morning  \n",
       "1             23.8   soleado  old      medium     morning  \n",
       "2             21.1   soleado  old      medium   afternoon  \n",
       "3             21.2  Soleado   old      medium   afternoon  \n",
       "4             21.3  Soleado   old      medium   afternoon  "
      ]
     },
     "execution_count": 73,
     "metadata": {},
     "output_type": "execute_result"
    }
   ],
   "source": [
    "data.head()"
   ]
  },
  {
   "cell_type": "markdown",
   "metadata": {},
   "source": [
    "# T student and dose response graph"
   ]
  },
  {
   "cell_type": "code",
   "execution_count": 31,
   "metadata": {},
   "outputs": [
    {
     "data": {
      "text/plain": [
       "<AxesSubplot:xlabel='hour', ylabel='effective_dose_[mSv/y]'>"
      ]
     },
     "execution_count": 31,
     "metadata": {},
     "output_type": "execute_result"
    },
    {
     "data": {
      "image/png": "[encoded data removed]",
      "text/plain": [
       "<Figure size 640x480 with 1 Axes>"
      ]
     },
     "metadata": {},
     "output_type": "display_data"
    }
   ],
   "source": [
    "pat_37 = data[(data['Casa']=='pat 37')]\n",
    "pat_37 = pd.DataFrame(pat_37)\n",
    "sns.scatterplot(data=pat_37, x = 'hour', y = 'effective_dose_[mSv/y]',hue = 'day')"
   ]
  },
  {
   "cell_type": "code",
   "execution_count": 45,
   "metadata": {},
   "outputs": [
    {
     "data": {
      "text/plain": [
       "0     0.44030\n",
       "1     0.45288\n",
       "2     0.42143\n",
       "3     0.40256\n",
       "4     0.44030\n",
       "5     0.47175\n",
       "6     0.47175\n",
       "7     0.42143\n",
       "8     0.44030\n",
       "9     0.40256\n",
       "10    0.44030\n",
       "11    0.47804\n",
       "12    0.49062\n",
       "13    0.49062\n",
       "14    0.47175\n",
       "Name: effective_dose_[mSv/y], dtype: float64"
      ]
     },
     "execution_count": 45,
     "metadata": {},
     "output_type": "execute_result"
    }
   ],
   "source": [
    "#effective_d = data.loc[data.house_code == 'P-01', data.day == '03/8/2022', 'effective_dose_[mSv/y]']\n",
    "pat_37\n",
    "effective_d = data.loc[data.house_code == 'P-01', 'effective_dose_[mSv/y]']\n",
    "#time_h = data.loc[data.house_code == 'P-01', data.day == '04/8/2022', 'effective_dose_[mSv/y]']\n",
    "#time_h\n",
    "effective_d[0:15]"
   ]
  },
  {
   "cell_type": "code",
   "execution_count": 52,
   "metadata": {},
   "outputs": [],
   "source": [
    "#effective_d2 = effective_d[15:30]\n",
    "#effective_d2 \n",
    "#effective_d3 = effective_d[30:47]\n",
    "#effective_d3"
   ]
  },
  {
   "cell_type": "markdown",
   "metadata": {},
   "source": [
    "### t student para casa P-01"
   ]
  },
  {
   "cell_type": "code",
   "execution_count": 50,
   "metadata": {},
   "outputs": [
    {
     "name": "stdout",
     "output_type": "stream",
     "text": [
      "               T  dof alternative     p-val          CI95%   cohen-d   BF10  \\\n",
      "T-test -0.620653   28   two-sided  0.539847  [-0.04, 0.02]  0.226631  0.399   \n",
      "\n",
      "         power  \n",
      "T-test  0.0921  \n",
      "                T  dof alternative         p-val           CI95%   cohen-d  \\\n",
      "T-test -10.760276   28   two-sided  1.863637e-11  [-0.28, -0.19]  3.929097   \n",
      "\n",
      "             BF10  power  \n",
      "T-test  2.757e+08    1.0  \n",
      "               T  dof alternative         p-val           CI95%   cohen-d  \\\n",
      "T-test -8.950404   28   two-sided  1.048937e-09  [-0.27, -0.17]  3.268225   \n",
      "\n",
      "             BF10  power  \n",
      "T-test  6.351e+06    1.0  \n"
     ]
    }
   ],
   "source": [
    "effective_d = data.loc[data.house_code == 'P-01', 'effective_dose_[mSv/y]']\n",
    "time_h = data.loc[data.house_code == 'P-01', 'effective_dose_[mSv/y]']\n",
    "effective_d1 = effective_d[0:15]\n",
    "effective_d2 = effective_d[15:30]\n",
    "effective_d3 = effective_d[30:47]\n",
    "\n",
    "\n",
    "\n",
    "print(pg.ttest(x=effective_d1, y=effective_d2, alternative='two-sided', correction=False))\n",
    "print(pg.ttest(x=effective_d1, y=effective_d3, alternative='two-sided', correction=False))\n",
    "print(pg.ttest(x=effective_d2, y=effective_d3, alternative='two-sided', correction=False))"
   ]
  },
  {
   "cell_type": "markdown",
   "metadata": {},
   "source": [
    "## t student para P-02"
   ]
  },
  {
   "cell_type": "code",
   "execution_count": 71,
   "metadata": {},
   "outputs": [
    {
     "ename": "KeyError",
     "evalue": "'age'",
     "output_type": "error",
     "traceback": [
      "\u001b[0;31m---------------------------------------------------------------------------\u001b[0m",
      "\u001b[0;31mKeyError\u001b[0m                                  Traceback (most recent call last)",
      "\u001b[0;32m~/anaconda3/envs/teoria_project/lib/python3.7/site-packages/pandas/core/indexes/base.py\u001b[0m in \u001b[0;36mget_loc\u001b[0;34m(self, key, method, tolerance)\u001b[0m\n\u001b[1;32m   3360\u001b[0m             \u001b[0;32mtry\u001b[0m\u001b[0;34m:\u001b[0m\u001b[0;34m\u001b[0m\u001b[0;34m\u001b[0m\u001b[0m\n\u001b[0;32m-> 3361\u001b[0;31m                 \u001b[0;32mreturn\u001b[0m \u001b[0mself\u001b[0m\u001b[0;34m.\u001b[0m\u001b[0m_engine\u001b[0m\u001b[0;34m.\u001b[0m\u001b[0mget_loc\u001b[0m\u001b[0;34m(\u001b[0m\u001b[0mcasted_key\u001b[0m\u001b[0;34m)\u001b[0m\u001b[0;34m\u001b[0m\u001b[0;34m\u001b[0m\u001b[0m\n\u001b[0m\u001b[1;32m   3362\u001b[0m             \u001b[0;32mexcept\u001b[0m \u001b[0mKeyError\u001b[0m \u001b[0;32mas\u001b[0m \u001b[0merr\u001b[0m\u001b[0;34m:\u001b[0m\u001b[0;34m\u001b[0m\u001b[0;34m\u001b[0m\u001b[0m\n",
      "\u001b[0;32m~/anaconda3/envs/teoria_project/lib/python3.7/site-packages/pandas/_libs/index.pyx\u001b[0m in \u001b[0;36mpandas._libs.index.IndexEngine.get_loc\u001b[0;34m()\u001b[0m\n",
      "\u001b[0;32m~/anaconda3/envs/teoria_project/lib/python3.7/site-packages/pandas/_libs/index.pyx\u001b[0m in \u001b[0;36mpandas._libs.index.IndexEngine.get_loc\u001b[0;34m()\u001b[0m\n",
      "\u001b[0;32mpandas/_libs/hashtable_class_helper.pxi\u001b[0m in \u001b[0;36mpandas._libs.hashtable.PyObjectHashTable.get_item\u001b[0;34m()\u001b[0m\n",
      "\u001b[0;32mpandas/_libs/hashtable_class_helper.pxi\u001b[0m in \u001b[0;36mpandas._libs.hashtable.PyObjectHashTable.get_item\u001b[0;34m()\u001b[0m\n",
      "\u001b[0;31mKeyError\u001b[0m: 'age'",
      "\nThe above exception was the direct cause of the following exception:\n",
      "\u001b[0;31mKeyError\u001b[0m                                  Traceback (most recent call last)",
      "\u001b[0;32m/tmp/ipykernel_480/2634516705.py\u001b[0m in \u001b[0;36m<module>\u001b[0;34m\u001b[0m\n\u001b[0;32m----> 1\u001b[0;31m \u001b[0meffective_d\u001b[0m \u001b[0;34m=\u001b[0m \u001b[0mdata\u001b[0m\u001b[0;34m.\u001b[0m\u001b[0mloc\u001b[0m\u001b[0;34m[\u001b[0m\u001b[0mdata\u001b[0m\u001b[0;34m.\u001b[0m\u001b[0mhouse_code\u001b[0m \u001b[0;34m==\u001b[0m \u001b[0;34m'P-01'\u001b[0m\u001b[0;34m,\u001b[0m \u001b[0;34m'age'\u001b[0m\u001b[0;34m]\u001b[0m\u001b[0;34m\u001b[0m\u001b[0;34m\u001b[0m\u001b[0m\n\u001b[0m",
      "\u001b[0;32m~/anaconda3/envs/teoria_project/lib/python3.7/site-packages/pandas/core/indexing.py\u001b[0m in \u001b[0;36m__getitem__\u001b[0;34m(self, key)\u001b[0m\n\u001b[1;32m    923\u001b[0m                 \u001b[0;32mwith\u001b[0m \u001b[0msuppress\u001b[0m\u001b[0;34m(\u001b[0m\u001b[0mKeyError\u001b[0m\u001b[0;34m,\u001b[0m \u001b[0mIndexError\u001b[0m\u001b[0;34m)\u001b[0m\u001b[0;34m:\u001b[0m\u001b[0;34m\u001b[0m\u001b[0;34m\u001b[0m\u001b[0m\n\u001b[1;32m    924\u001b[0m                     \u001b[0;32mreturn\u001b[0m \u001b[0mself\u001b[0m\u001b[0;34m.\u001b[0m\u001b[0mobj\u001b[0m\u001b[0;34m.\u001b[0m\u001b[0m_get_value\u001b[0m\u001b[0;34m(\u001b[0m\u001b[0;34m*\u001b[0m\u001b[0mkey\u001b[0m\u001b[0;34m,\u001b[0m \u001b[0mtakeable\u001b[0m\u001b[0;34m=\u001b[0m\u001b[0mself\u001b[0m\u001b[0;34m.\u001b[0m\u001b[0m_takeable\u001b[0m\u001b[0;34m)\u001b[0m\u001b[0;34m\u001b[0m\u001b[0;34m\u001b[0m\u001b[0m\n\u001b[0;32m--> 925\u001b[0;31m             \u001b[0;32mreturn\u001b[0m \u001b[0mself\u001b[0m\u001b[0;34m.\u001b[0m\u001b[0m_getitem_tuple\u001b[0m\u001b[0;34m(\u001b[0m\u001b[0mkey\u001b[0m\u001b[0;34m)\u001b[0m\u001b[0;34m\u001b[0m\u001b[0;34m\u001b[0m\u001b[0m\n\u001b[0m\u001b[1;32m    926\u001b[0m         \u001b[0;32melse\u001b[0m\u001b[0;34m:\u001b[0m\u001b[0;34m\u001b[0m\u001b[0;34m\u001b[0m\u001b[0m\n\u001b[1;32m    927\u001b[0m             \u001b[0;31m# we by definition only have the 0th axis\u001b[0m\u001b[0;34m\u001b[0m\u001b[0;34m\u001b[0m\u001b[0;34m\u001b[0m\u001b[0m\n",
      "\u001b[0;32m~/anaconda3/envs/teoria_project/lib/python3.7/site-packages/pandas/core/indexing.py\u001b[0m in \u001b[0;36m_getitem_tuple\u001b[0;34m(self, tup)\u001b[0m\n\u001b[1;32m   1098\u001b[0m     \u001b[0;32mdef\u001b[0m \u001b[0m_getitem_tuple\u001b[0m\u001b[0;34m(\u001b[0m\u001b[0mself\u001b[0m\u001b[0;34m,\u001b[0m \u001b[0mtup\u001b[0m\u001b[0;34m:\u001b[0m \u001b[0mtuple\u001b[0m\u001b[0;34m)\u001b[0m\u001b[0;34m:\u001b[0m\u001b[0;34m\u001b[0m\u001b[0;34m\u001b[0m\u001b[0m\n\u001b[1;32m   1099\u001b[0m         \u001b[0;32mwith\u001b[0m \u001b[0msuppress\u001b[0m\u001b[0;34m(\u001b[0m\u001b[0mIndexingError\u001b[0m\u001b[0;34m)\u001b[0m\u001b[0;34m:\u001b[0m\u001b[0;34m\u001b[0m\u001b[0;34m\u001b[0m\u001b[0m\n\u001b[0;32m-> 1100\u001b[0;31m             \u001b[0;32mreturn\u001b[0m \u001b[0mself\u001b[0m\u001b[0;34m.\u001b[0m\u001b[0m_getitem_lowerdim\u001b[0m\u001b[0;34m(\u001b[0m\u001b[0mtup\u001b[0m\u001b[0;34m)\u001b[0m\u001b[0;34m\u001b[0m\u001b[0;34m\u001b[0m\u001b[0m\n\u001b[0m\u001b[1;32m   1101\u001b[0m \u001b[0;34m\u001b[0m\u001b[0m\n\u001b[1;32m   1102\u001b[0m         \u001b[0;31m# no multi-index, so validate all of the indexers\u001b[0m\u001b[0;34m\u001b[0m\u001b[0;34m\u001b[0m\u001b[0;34m\u001b[0m\u001b[0m\n",
      "\u001b[0;32m~/anaconda3/envs/teoria_project/lib/python3.7/site-packages/pandas/core/indexing.py\u001b[0m in \u001b[0;36m_getitem_lowerdim\u001b[0;34m(self, tup)\u001b[0m\n\u001b[1;32m    836\u001b[0m                 \u001b[0;31m# We don't need to check for tuples here because those are\u001b[0m\u001b[0;34m\u001b[0m\u001b[0;34m\u001b[0m\u001b[0;34m\u001b[0m\u001b[0m\n\u001b[1;32m    837\u001b[0m                 \u001b[0;31m#  caught by the _is_nested_tuple_indexer check above.\u001b[0m\u001b[0;34m\u001b[0m\u001b[0;34m\u001b[0m\u001b[0;34m\u001b[0m\u001b[0m\n\u001b[0;32m--> 838\u001b[0;31m                 \u001b[0msection\u001b[0m \u001b[0;34m=\u001b[0m \u001b[0mself\u001b[0m\u001b[0;34m.\u001b[0m\u001b[0m_getitem_axis\u001b[0m\u001b[0;34m(\u001b[0m\u001b[0mkey\u001b[0m\u001b[0;34m,\u001b[0m \u001b[0maxis\u001b[0m\u001b[0;34m=\u001b[0m\u001b[0mi\u001b[0m\u001b[0;34m)\u001b[0m\u001b[0;34m\u001b[0m\u001b[0;34m\u001b[0m\u001b[0m\n\u001b[0m\u001b[1;32m    839\u001b[0m \u001b[0;34m\u001b[0m\u001b[0m\n\u001b[1;32m    840\u001b[0m                 \u001b[0;31m# We should never have a scalar section here, because\u001b[0m\u001b[0;34m\u001b[0m\u001b[0;34m\u001b[0m\u001b[0;34m\u001b[0m\u001b[0m\n",
      "\u001b[0;32m~/anaconda3/envs/teoria_project/lib/python3.7/site-packages/pandas/core/indexing.py\u001b[0m in \u001b[0;36m_getitem_axis\u001b[0;34m(self, key, axis)\u001b[0m\n\u001b[1;32m   1162\u001b[0m         \u001b[0;31m# fall thru to straight lookup\u001b[0m\u001b[0;34m\u001b[0m\u001b[0;34m\u001b[0m\u001b[0;34m\u001b[0m\u001b[0m\n\u001b[1;32m   1163\u001b[0m         \u001b[0mself\u001b[0m\u001b[0;34m.\u001b[0m\u001b[0m_validate_key\u001b[0m\u001b[0;34m(\u001b[0m\u001b[0mkey\u001b[0m\u001b[0;34m,\u001b[0m \u001b[0maxis\u001b[0m\u001b[0;34m)\u001b[0m\u001b[0;34m\u001b[0m\u001b[0;34m\u001b[0m\u001b[0m\n\u001b[0;32m-> 1164\u001b[0;31m         \u001b[0;32mreturn\u001b[0m \u001b[0mself\u001b[0m\u001b[0;34m.\u001b[0m\u001b[0m_get_label\u001b[0m\u001b[0;34m(\u001b[0m\u001b[0mkey\u001b[0m\u001b[0;34m,\u001b[0m \u001b[0maxis\u001b[0m\u001b[0;34m=\u001b[0m\u001b[0maxis\u001b[0m\u001b[0;34m)\u001b[0m\u001b[0;34m\u001b[0m\u001b[0;34m\u001b[0m\u001b[0m\n\u001b[0m\u001b[1;32m   1165\u001b[0m \u001b[0;34m\u001b[0m\u001b[0m\n\u001b[1;32m   1166\u001b[0m     \u001b[0;32mdef\u001b[0m \u001b[0m_get_slice_axis\u001b[0m\u001b[0;34m(\u001b[0m\u001b[0mself\u001b[0m\u001b[0;34m,\u001b[0m \u001b[0mslice_obj\u001b[0m\u001b[0;34m:\u001b[0m \u001b[0mslice\u001b[0m\u001b[0;34m,\u001b[0m \u001b[0maxis\u001b[0m\u001b[0;34m:\u001b[0m \u001b[0mint\u001b[0m\u001b[0;34m)\u001b[0m\u001b[0;34m:\u001b[0m\u001b[0;34m\u001b[0m\u001b[0;34m\u001b[0m\u001b[0m\n",
      "\u001b[0;32m~/anaconda3/envs/teoria_project/lib/python3.7/site-packages/pandas/core/indexing.py\u001b[0m in \u001b[0;36m_get_label\u001b[0;34m(self, label, axis)\u001b[0m\n\u001b[1;32m   1111\u001b[0m     \u001b[0;32mdef\u001b[0m \u001b[0m_get_label\u001b[0m\u001b[0;34m(\u001b[0m\u001b[0mself\u001b[0m\u001b[0;34m,\u001b[0m \u001b[0mlabel\u001b[0m\u001b[0;34m,\u001b[0m \u001b[0maxis\u001b[0m\u001b[0;34m:\u001b[0m \u001b[0mint\u001b[0m\u001b[0;34m)\u001b[0m\u001b[0;34m:\u001b[0m\u001b[0;34m\u001b[0m\u001b[0;34m\u001b[0m\u001b[0m\n\u001b[1;32m   1112\u001b[0m         \u001b[0;31m# GH#5667 this will fail if the label is not present in the axis.\u001b[0m\u001b[0;34m\u001b[0m\u001b[0;34m\u001b[0m\u001b[0;34m\u001b[0m\u001b[0m\n\u001b[0;32m-> 1113\u001b[0;31m         \u001b[0;32mreturn\u001b[0m \u001b[0mself\u001b[0m\u001b[0;34m.\u001b[0m\u001b[0mobj\u001b[0m\u001b[0;34m.\u001b[0m\u001b[0mxs\u001b[0m\u001b[0;34m(\u001b[0m\u001b[0mlabel\u001b[0m\u001b[0;34m,\u001b[0m \u001b[0maxis\u001b[0m\u001b[0;34m=\u001b[0m\u001b[0maxis\u001b[0m\u001b[0;34m)\u001b[0m\u001b[0;34m\u001b[0m\u001b[0;34m\u001b[0m\u001b[0m\n\u001b[0m\u001b[1;32m   1114\u001b[0m \u001b[0;34m\u001b[0m\u001b[0m\n\u001b[1;32m   1115\u001b[0m     \u001b[0;32mdef\u001b[0m \u001b[0m_handle_lowerdim_multi_index_axis0\u001b[0m\u001b[0;34m(\u001b[0m\u001b[0mself\u001b[0m\u001b[0;34m,\u001b[0m \u001b[0mtup\u001b[0m\u001b[0;34m:\u001b[0m \u001b[0mtuple\u001b[0m\u001b[0;34m)\u001b[0m\u001b[0;34m:\u001b[0m\u001b[0;34m\u001b[0m\u001b[0;34m\u001b[0m\u001b[0m\n",
      "\u001b[0;32m~/anaconda3/envs/teoria_project/lib/python3.7/site-packages/pandas/core/generic.py\u001b[0m in \u001b[0;36mxs\u001b[0;34m(self, key, axis, level, drop_level)\u001b[0m\n\u001b[1;32m   3759\u001b[0m         \u001b[0;32mif\u001b[0m \u001b[0maxis\u001b[0m \u001b[0;34m==\u001b[0m \u001b[0;36m1\u001b[0m\u001b[0;34m:\u001b[0m\u001b[0;34m\u001b[0m\u001b[0;34m\u001b[0m\u001b[0m\n\u001b[1;32m   3760\u001b[0m             \u001b[0;32mif\u001b[0m \u001b[0mdrop_level\u001b[0m\u001b[0;34m:\u001b[0m\u001b[0;34m\u001b[0m\u001b[0;34m\u001b[0m\u001b[0m\n\u001b[0;32m-> 3761\u001b[0;31m                 \u001b[0;32mreturn\u001b[0m \u001b[0mself\u001b[0m\u001b[0;34m[\u001b[0m\u001b[0mkey\u001b[0m\u001b[0;34m]\u001b[0m\u001b[0;34m\u001b[0m\u001b[0;34m\u001b[0m\u001b[0m\n\u001b[0m\u001b[1;32m   3762\u001b[0m             \u001b[0mindex\u001b[0m \u001b[0;34m=\u001b[0m \u001b[0mself\u001b[0m\u001b[0;34m.\u001b[0m\u001b[0mcolumns\u001b[0m\u001b[0;34m\u001b[0m\u001b[0;34m\u001b[0m\u001b[0m\n\u001b[1;32m   3763\u001b[0m         \u001b[0;32melse\u001b[0m\u001b[0;34m:\u001b[0m\u001b[0;34m\u001b[0m\u001b[0;34m\u001b[0m\u001b[0m\n",
      "\u001b[0;32m~/anaconda3/envs/teoria_project/lib/python3.7/site-packages/pandas/core/frame.py\u001b[0m in \u001b[0;36m__getitem__\u001b[0;34m(self, key)\u001b[0m\n\u001b[1;32m   3456\u001b[0m             \u001b[0;32mif\u001b[0m \u001b[0mself\u001b[0m\u001b[0;34m.\u001b[0m\u001b[0mcolumns\u001b[0m\u001b[0;34m.\u001b[0m\u001b[0mnlevels\u001b[0m \u001b[0;34m>\u001b[0m \u001b[0;36m1\u001b[0m\u001b[0;34m:\u001b[0m\u001b[0;34m\u001b[0m\u001b[0;34m\u001b[0m\u001b[0m\n\u001b[1;32m   3457\u001b[0m                 \u001b[0;32mreturn\u001b[0m \u001b[0mself\u001b[0m\u001b[0;34m.\u001b[0m\u001b[0m_getitem_multilevel\u001b[0m\u001b[0;34m(\u001b[0m\u001b[0mkey\u001b[0m\u001b[0;34m)\u001b[0m\u001b[0;34m\u001b[0m\u001b[0;34m\u001b[0m\u001b[0m\n\u001b[0;32m-> 3458\u001b[0;31m             \u001b[0mindexer\u001b[0m \u001b[0;34m=\u001b[0m \u001b[0mself\u001b[0m\u001b[0;34m.\u001b[0m\u001b[0mcolumns\u001b[0m\u001b[0;34m.\u001b[0m\u001b[0mget_loc\u001b[0m\u001b[0;34m(\u001b[0m\u001b[0mkey\u001b[0m\u001b[0;34m)\u001b[0m\u001b[0;34m\u001b[0m\u001b[0;34m\u001b[0m\u001b[0m\n\u001b[0m\u001b[1;32m   3459\u001b[0m             \u001b[0;32mif\u001b[0m \u001b[0mis_integer\u001b[0m\u001b[0;34m(\u001b[0m\u001b[0mindexer\u001b[0m\u001b[0;34m)\u001b[0m\u001b[0;34m:\u001b[0m\u001b[0;34m\u001b[0m\u001b[0;34m\u001b[0m\u001b[0m\n\u001b[1;32m   3460\u001b[0m                 \u001b[0mindexer\u001b[0m \u001b[0;34m=\u001b[0m \u001b[0;34m[\u001b[0m\u001b[0mindexer\u001b[0m\u001b[0;34m]\u001b[0m\u001b[0;34m\u001b[0m\u001b[0;34m\u001b[0m\u001b[0m\n",
      "\u001b[0;32m~/anaconda3/envs/teoria_project/lib/python3.7/site-packages/pandas/core/indexes/base.py\u001b[0m in \u001b[0;36mget_loc\u001b[0;34m(self, key, method, tolerance)\u001b[0m\n\u001b[1;32m   3361\u001b[0m                 \u001b[0;32mreturn\u001b[0m \u001b[0mself\u001b[0m\u001b[0;34m.\u001b[0m\u001b[0m_engine\u001b[0m\u001b[0;34m.\u001b[0m\u001b[0mget_loc\u001b[0m\u001b[0;34m(\u001b[0m\u001b[0mcasted_key\u001b[0m\u001b[0;34m)\u001b[0m\u001b[0;34m\u001b[0m\u001b[0;34m\u001b[0m\u001b[0m\n\u001b[1;32m   3362\u001b[0m             \u001b[0;32mexcept\u001b[0m \u001b[0mKeyError\u001b[0m \u001b[0;32mas\u001b[0m \u001b[0merr\u001b[0m\u001b[0;34m:\u001b[0m\u001b[0;34m\u001b[0m\u001b[0;34m\u001b[0m\u001b[0m\n\u001b[0;32m-> 3363\u001b[0;31m                 \u001b[0;32mraise\u001b[0m \u001b[0mKeyError\u001b[0m\u001b[0;34m(\u001b[0m\u001b[0mkey\u001b[0m\u001b[0;34m)\u001b[0m \u001b[0;32mfrom\u001b[0m \u001b[0merr\u001b[0m\u001b[0;34m\u001b[0m\u001b[0;34m\u001b[0m\u001b[0m\n\u001b[0m\u001b[1;32m   3364\u001b[0m \u001b[0;34m\u001b[0m\u001b[0m\n\u001b[1;32m   3365\u001b[0m         \u001b[0;32mif\u001b[0m \u001b[0mis_scalar\u001b[0m\u001b[0;34m(\u001b[0m\u001b[0mkey\u001b[0m\u001b[0;34m)\u001b[0m \u001b[0;32mand\u001b[0m \u001b[0misna\u001b[0m\u001b[0;34m(\u001b[0m\u001b[0mkey\u001b[0m\u001b[0;34m)\u001b[0m \u001b[0;32mand\u001b[0m \u001b[0;32mnot\u001b[0m \u001b[0mself\u001b[0m\u001b[0;34m.\u001b[0m\u001b[0mhasnans\u001b[0m\u001b[0;34m:\u001b[0m\u001b[0;34m\u001b[0m\u001b[0;34m\u001b[0m\u001b[0m\n",
      "\u001b[0;31mKeyError\u001b[0m: 'age'"
     ]
    }
   ],
   "source": [
    "#effective_d = data.loc[data.house_code == 'P-01', 'age']"
   ]
  },
  {
   "cell_type": "code",
   "execution_count": 51,
   "metadata": {},
   "outputs": [
    {
     "name": "stdout",
     "output_type": "stream",
     "text": [
      "               T  dof alternative         p-val           CI95%   cohen-d  \\\n",
      "T-test -7.187012   28   two-sided  8.023544e-08  [-0.13, -0.07]  2.624326   \n",
      "\n",
      "             BF10  power  \n",
      "T-test  1.164e+05    1.0  \n",
      "              T  dof alternative     p-val          CI95%   cohen-d   BF10  \\\n",
      "T-test -1.41325   28   two-sided  0.168603  [-0.05, 0.01]  0.516046  0.726   \n",
      "\n",
      "           power  \n",
      "T-test  0.276367  \n",
      "                T  dof alternative         p-val        CI95%  cohen-d  \\\n",
      "T-test  10.230279   28   two-sided  5.808779e-11  [0.06, 0.1]  3.73557   \n",
      "\n",
      "            BF10  power  \n",
      "T-test  9.48e+07    1.0  \n"
     ]
    }
   ],
   "source": [
    "effective_d = data.loc[data.house_code == 'P-02', 'effective_dose_[mSv/y]']\n",
    "time_h = data.loc[data.house_code == 'P-02', 'effective_dose_[mSv/y]']\n",
    "effective_d1 = effective_d[0:15]\n",
    "effective_d2 = effective_d[15:30]\n",
    "effective_d3 = effective_d[30:47]\n",
    "\n",
    "\n",
    "\n",
    "print(pg.ttest(x=effective_d1, y=effective_d2, alternative='two-sided', correction=False))\n",
    "print(pg.ttest(x=effective_d1, y=effective_d3, alternative='two-sided', correction=False))\n",
    "print(pg.ttest(x=effective_d2, y=effective_d3, alternative='two-sided', correction=False))"
   ]
  },
  {
   "cell_type": "code",
   "execution_count": 8,
   "metadata": {},
   "outputs": [
    {
     "data": {
      "text/plain": [
       "<AxesSubplot:xlabel='hour', ylabel='effective dose [mSv/y]'>"
      ]
     },
     "execution_count": 8,
     "metadata": {},
     "output_type": "execute_result"
    },
    {
     "data": {
      "image/png": "[encoded data removed]",
      "text/plain": [
       "<Figure size 640x480 with 1 Axes>"
      ]
     },
     "metadata": {},
     "output_type": "display_data"
    }
   ],
   "source": [
    "bloque_A4 = data[(data['Casa']=='A')]\n",
    "sns.scatterplot(data=bloque_A4, x = 'hour', y = 'effective dose [mSv/y]',hue = 'day')"
   ]
  },
  {
   "cell_type": "code",
   "execution_count": null,
   "metadata": {},
   "outputs": [],
   "source": [
    "pat_28 = data[(data['Casa']=='PAT 28')]"
   ]
  },
  {
   "cell_type": "code",
   "execution_count": null,
   "metadata": {},
   "outputs": [],
   "source": [
    "pat_32 = data[(data['Casa']=='PAT 32')]"
   ]
  },
  {
   "cell_type": "code",
   "execution_count": null,
   "metadata": {},
   "outputs": [],
   "source": [
    "pat_33 = data[(data['Casa']=='PAT 33')]"
   ]
  },
  {
   "cell_type": "code",
   "execution_count": null,
   "metadata": {},
   "outputs": [],
   "source": [
    "pat_1 = data[(data['Casa']=='PAT 1')]"
   ]
  },
  {
   "cell_type": "markdown",
   "metadata": {},
   "source": [
    "# Colapsing data for lineal model"
   ]
  },
  {
   "cell_type": "code",
   "execution_count": null,
   "metadata": {},
   "outputs": [],
   "source": []
  },
  {
   "cell_type": "markdown",
   "metadata": {},
   "source": [
    "# Lineal model"
   ]
  },
  {
   "cell_type": "code",
   "execution_count": 82,
   "metadata": {},
   "outputs": [],
   "source": [
    "age_build = data['age']\n",
    "ventilation = data['ventilacion']\n",
    "time_interval = data['time_period']"
   ]
  },
  {
   "cell_type": "code",
   "execution_count": 83,
   "metadata": {},
   "outputs": [],
   "source": [
    "#convert categorical variables into number\n",
    "#countries = ['EC','CO','BR','MX'] # countries\n",
    "\n",
    "age_build = data['age']\n",
    "\n",
    "#label encoder to change countries in numbers\n",
    "encoder = preprocessing.LabelEncoder()\n",
    "agebuild_encoded = encoder.fit_transform(age_build)\n",
    "\n",
    "#create 30 elements for the dataset\n",
    "age_elements = [random.choice(agebuild_encoded) for i in range(len(data))]\n",
    "data['age_elements'] = age_elements\n"
   ]
  },
  {
   "cell_type": "code",
   "execution_count": 85,
   "metadata": {},
   "outputs": [],
   "source": [
    "ventilation = data['ventilacion']\n",
    "\n",
    "encoder = preprocessing.LabelEncoder()\n",
    "ventilation_encoded = encoder.fit_transform(ventilation)\n",
    "\n",
    "#create 30 elements for the dataset\n",
    "ventilation_elements = [random.choice(ventilation_encoded) for i in range(len(data))]\n",
    "data['ventilation_elements'] = ventilation_elements\n"
   ]
  },
  {
   "cell_type": "code",
   "execution_count": 86,
   "metadata": {},
   "outputs": [],
   "source": [
    "time_interval = data['time_period']\n",
    "\n",
    "encoder = preprocessing.LabelEncoder()\n",
    "timei_encoded = encoder.fit_transform(time_interval)\n",
    "\n",
    "#create 30 elements for the dataset\n",
    "timei_elements = [random.choice(timei_encoded) for i in range(len(data))]\n",
    "data['timei_elements'] = timei_elements\n"
   ]
  },
  {
   "cell_type": "code",
   "execution_count": null,
   "metadata": {},
   "outputs": [],
   "source": [
    "X_train, X_test, Y_train, Y_test = train_test_split(x,y,test_size=0.25, random_state=0)"
   ]
  },
  {
   "cell_type": "code",
   "execution_count": null,
   "metadata": {},
   "outputs": [],
   "source": [
    "logreg = LogisticRegression(max_iter=len(X_train))\n",
    "logreg.fit(X_train,Y_train)\n",
    "y_pred = logreg.predict(X_test)"
   ]
  }
 ],
 "metadata": {
  "kernelspec": {
   "display_name": "Python 3.7.13 ('teoria_project')",
   "language": "python",
   "name": "python3"
  },
  "language_info": {
   "codemirror_mode": {
    "name": "ipython",
    "version": 3
   },
   "file_extension": ".py",
   "mimetype": "text/x-python",
   "name": "python",
   "nbconvert_exporter": "python",
   "pygments_lexer": "ipython3",
   "version": "3.7.13"
  },
  "orig_nbformat": 4,
  "vscode": {
   "interpreter": {
    "hash": "6c5d65d1977bb8778692838347490aab54933dd977593891dc90ff7321ab095d"
   }
  }
 },
 "nbformat": 4,
 "nbformat_minor": 2
}
