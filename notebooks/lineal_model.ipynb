{
 "cells": [
  {
   "cell_type": "markdown",
   "metadata": {},
   "source": [
    "# Generalized lineal model"
   ]
  },
  {
   "cell_type": "code",
   "execution_count": 276,
   "metadata": {},
   "outputs": [],
   "source": [
    "\n",
    "#import machine_learning_fundamentals.utils.paths as path\n",
    "import pandas as pd\n",
    "import numpy as np\n",
    "import seaborn as sns\n",
    "import random\n",
    "from glm.glm import GLM\n",
    "from glm.families import Gaussian, Poisson\n",
    "import matplotlib.pyplot as plt\n",
    "from sklearn.linear_model import LogisticRegression\n",
    "from sklearn.linear_model import LinearRegression\n",
    "from sklearn.metrics import mean_squared_error\n",
    "from sklearn.model_selection import train_test_split #to divide the data\n",
    "from sklearn import preprocessing\n",
    "from scipy import stats\n",
    "import pingouin as pg"
   ]
  },
  {
   "cell_type": "code",
   "execution_count": 277,
   "metadata": {},
   "outputs": [],
   "source": [
    "#!pip install git+https://github.com/madrury/py-glm.git"
   ]
  },
  {
   "cell_type": "code",
   "execution_count": 278,
   "metadata": {},
   "outputs": [],
   "source": [
    "#!pip install pingouin "
   ]
  },
  {
   "cell_type": "code",
   "execution_count": 279,
   "metadata": {},
   "outputs": [],
   "source": [
    "data = pd.read_csv('/home/alejandrodf1/Documents/radon_project/radon_project/data/raw/radon18.csv', sep=';')  #we get the data"
   ]
  },
  {
   "cell_type": "code",
   "execution_count": 280,
   "metadata": {},
   "outputs": [
    {
     "data": {
      "text/html": [
       "<div>\n",
       "<style scoped>\n",
       "    .dataframe tbody tr th:only-of-type {\n",
       "        vertical-align: middle;\n",
       "    }\n",
       "\n",
       "    .dataframe tbody tr th {\n",
       "        vertical-align: top;\n",
       "    }\n",
       "\n",
       "    .dataframe thead th {\n",
       "        text-align: right;\n",
       "    }\n",
       "</style>\n",
       "<table border=\"1\" class=\"dataframe\">\n",
       "  <thead>\n",
       "    <tr style=\"text-align: right;\">\n",
       "      <th></th>\n",
       "      <th>Casa</th>\n",
       "      <th>house_code</th>\n",
       "      <th>hour</th>\n",
       "      <th>day</th>\n",
       "      <th>day_model</th>\n",
       "      <th>Hora</th>\n",
       "      <th>[]_RADON_(pCi/L)</th>\n",
       "      <th>[]_RADON_(Bq/m3)</th>\n",
       "      <th>effective_dose_[mSv/y]</th>\n",
       "      <th>20_hours_effective_dose_[mSv]</th>\n",
       "      <th>Temperatura_(C)</th>\n",
       "      <th>clima</th>\n",
       "      <th>age</th>\n",
       "      <th>ventilacion</th>\n",
       "      <th>time_period</th>\n",
       "    </tr>\n",
       "  </thead>\n",
       "  <tbody>\n",
       "    <tr>\n",
       "      <th>0</th>\n",
       "      <td>pat 37</td>\n",
       "      <td>P-01</td>\n",
       "      <td>1</td>\n",
       "      <td>03/08/2022</td>\n",
       "      <td>1</td>\n",
       "      <td>10:00:00</td>\n",
       "      <td>0.70</td>\n",
       "      <td>25.90</td>\n",
       "      <td>0.44030</td>\n",
       "      <td>0.459170</td>\n",
       "      <td>23.8</td>\n",
       "      <td>soleado</td>\n",
       "      <td>old</td>\n",
       "      <td>medium</td>\n",
       "      <td>morning</td>\n",
       "    </tr>\n",
       "    <tr>\n",
       "      <th>1</th>\n",
       "      <td>pat 37</td>\n",
       "      <td>P-01</td>\n",
       "      <td>2</td>\n",
       "      <td>03/08/2022</td>\n",
       "      <td>1</td>\n",
       "      <td>11:00:00</td>\n",
       "      <td>0.72</td>\n",
       "      <td>26.64</td>\n",
       "      <td>0.45288</td>\n",
       "      <td>0.472289</td>\n",
       "      <td>23.8</td>\n",
       "      <td>soleado</td>\n",
       "      <td>old</td>\n",
       "      <td>medium</td>\n",
       "      <td>morning</td>\n",
       "    </tr>\n",
       "    <tr>\n",
       "      <th>2</th>\n",
       "      <td>pat 37</td>\n",
       "      <td>P-01</td>\n",
       "      <td>3</td>\n",
       "      <td>03/08/2022</td>\n",
       "      <td>1</td>\n",
       "      <td>12:00:00</td>\n",
       "      <td>0.67</td>\n",
       "      <td>24.79</td>\n",
       "      <td>0.42143</td>\n",
       "      <td>0.439491</td>\n",
       "      <td>21.1</td>\n",
       "      <td>soleado</td>\n",
       "      <td>old</td>\n",
       "      <td>medium</td>\n",
       "      <td>afternoon</td>\n",
       "    </tr>\n",
       "    <tr>\n",
       "      <th>3</th>\n",
       "      <td>pat 37</td>\n",
       "      <td>P-01</td>\n",
       "      <td>4</td>\n",
       "      <td>03/08/2022</td>\n",
       "      <td>1</td>\n",
       "      <td>13:00:00</td>\n",
       "      <td>0.64</td>\n",
       "      <td>23.68</td>\n",
       "      <td>0.40256</td>\n",
       "      <td>0.419813</td>\n",
       "      <td>21.2</td>\n",
       "      <td>soleado</td>\n",
       "      <td>old</td>\n",
       "      <td>medium</td>\n",
       "      <td>afternoon</td>\n",
       "    </tr>\n",
       "    <tr>\n",
       "      <th>4</th>\n",
       "      <td>pat 37</td>\n",
       "      <td>P-01</td>\n",
       "      <td>5</td>\n",
       "      <td>03/08/2022</td>\n",
       "      <td>1</td>\n",
       "      <td>14:00:00</td>\n",
       "      <td>0.70</td>\n",
       "      <td>25.90</td>\n",
       "      <td>0.44030</td>\n",
       "      <td>0.459170</td>\n",
       "      <td>21.3</td>\n",
       "      <td>soleado</td>\n",
       "      <td>old</td>\n",
       "      <td>medium</td>\n",
       "      <td>afternoon</td>\n",
       "    </tr>\n",
       "  </tbody>\n",
       "</table>\n",
       "</div>"
      ],
      "text/plain": [
       "     Casa house_code  hour         day  day_model      Hora  []_RADON_(pCi/L)  \\\n",
       "0  pat 37       P-01     1  03/08/2022          1  10:00:00              0.70   \n",
       "1  pat 37       P-01     2  03/08/2022          1  11:00:00              0.72   \n",
       "2  pat 37       P-01     3  03/08/2022          1  12:00:00              0.67   \n",
       "3  pat 37       P-01     4  03/08/2022          1  13:00:00              0.64   \n",
       "4  pat 37       P-01     5  03/08/2022          1  14:00:00              0.70   \n",
       "\n",
       "   []_RADON_(Bq/m3)  effective_dose_[mSv/y]  20_hours_effective_dose_[mSv]  \\\n",
       "0             25.90                 0.44030                       0.459170   \n",
       "1             26.64                 0.45288                       0.472289   \n",
       "2             24.79                 0.42143                       0.439491   \n",
       "3             23.68                 0.40256                       0.419813   \n",
       "4             25.90                 0.44030                       0.459170   \n",
       "\n",
       "   Temperatura_(C)     clima  age ventilacion time_period  \n",
       "0             23.8   soleado  old      medium     morning  \n",
       "1             23.8   soleado  old      medium     morning  \n",
       "2             21.1   soleado  old      medium   afternoon  \n",
       "3             21.2  soleado   old      medium   afternoon  \n",
       "4             21.3  soleado   old      medium   afternoon  "
      ]
     },
     "execution_count": 280,
     "metadata": {},
     "output_type": "execute_result"
    }
   ],
   "source": [
    "data.head()"
   ]
  },
  {
   "cell_type": "markdown",
   "metadata": {},
   "source": [
    "# T student and dose response graph"
   ]
  },
  {
   "cell_type": "code",
   "execution_count": 281,
   "metadata": {},
   "outputs": [
    {
     "data": {
      "text/plain": [
       "<AxesSubplot:xlabel='hour', ylabel='effective_dose_[mSv/y]'>"
      ]
     },
     "execution_count": 281,
     "metadata": {},
     "output_type": "execute_result"
    },
    {
     "data": {
      "image/png": "[encoded data removed]",
      "text/plain": [
       "<Figure size 640x480 with 1 Axes>"
      ]
     },
     "metadata": {},
     "output_type": "display_data"
    }
   ],
   "source": [
    "pat_37 = data[(data['Casa']=='pat 37')]\n",
    "pat_37 = pd.DataFrame(pat_37)\n",
    "sns.scatterplot(data=pat_37, x = 'hour', y = 'effective_dose_[mSv/y]',hue = 'day')"
   ]
  },
  {
   "cell_type": "code",
   "execution_count": 282,
   "metadata": {},
   "outputs": [],
   "source": [
    "#effective_d = data.loc[data.house_code == 'P-01', data.day == '03/8/2022', 'effective_dose_[mSv/y]']\n",
    "#pat_37\n",
    "#effective_d = data.loc[data.house_code == 'P-01', 'effective_dose_[mSv/y]']\n",
    "#time_h = data.loc[data.house_code == 'P-01', data.day == '04/8/2022', 'effective_dose_[mSv/y]']\n",
    "#time_h\n",
    "#effective_d[0:15]"
   ]
  },
  {
   "cell_type": "code",
   "execution_count": 283,
   "metadata": {},
   "outputs": [],
   "source": [
    "#effective_d2 = effective_d[15:30]\n",
    "#effective_d2 \n",
    "#effective_d3 = effective_d[30:47]\n",
    "#effective_d3"
   ]
  },
  {
   "cell_type": "markdown",
   "metadata": {},
   "source": [
    "### t student para casa P-01"
   ]
  },
  {
   "cell_type": "code",
   "execution_count": 284,
   "metadata": {},
   "outputs": [
    {
     "name": "stdout",
     "output_type": "stream",
     "text": [
      "               T  dof alternative     p-val          CI95%   cohen-d   BF10  \\\n",
      "T-test -0.620653   28   two-sided  0.539847  [-0.04, 0.02]  0.226631  0.399   \n",
      "\n",
      "         power  \n",
      "T-test  0.0921  \n",
      "                T  dof alternative         p-val           CI95%   cohen-d  \\\n",
      "T-test -10.760276   28   two-sided  1.863637e-11  [-0.28, -0.19]  3.929097   \n",
      "\n",
      "             BF10  power  \n",
      "T-test  2.757e+08    1.0  \n",
      "               T  dof alternative         p-val           CI95%   cohen-d  \\\n",
      "T-test -8.950404   28   two-sided  1.048937e-09  [-0.27, -0.17]  3.268225   \n",
      "\n",
      "             BF10  power  \n",
      "T-test  6.351e+06    1.0  \n"
     ]
    }
   ],
   "source": [
    "effective_d = data.loc[data.house_code == 'P-01', 'effective_dose_[mSv/y]']\n",
    "time_h = data.loc[data.house_code == 'P-01', 'effective_dose_[mSv/y]']\n",
    "effective_d1 = effective_d[0:15]\n",
    "effective_d2 = effective_d[15:30]\n",
    "effective_d3 = effective_d[30:47]\n",
    "\n",
    "\n",
    "\n",
    "print(pg.ttest(x=effective_d1, y=effective_d2, alternative='two-sided', correction=False))\n",
    "print(pg.ttest(x=effective_d1, y=effective_d3, alternative='two-sided', correction=False))\n",
    "print(pg.ttest(x=effective_d2, y=effective_d3, alternative='two-sided', correction=False))"
   ]
  },
  {
   "cell_type": "markdown",
   "metadata": {},
   "source": [
    "## t student para P-02"
   ]
  },
  {
   "cell_type": "code",
   "execution_count": 285,
   "metadata": {},
   "outputs": [
    {
     "name": "stdout",
     "output_type": "stream",
     "text": [
      "               T  dof alternative         p-val           CI95%   cohen-d  \\\n",
      "T-test -7.187012   28   two-sided  8.023544e-08  [-0.13, -0.07]  2.624326   \n",
      "\n",
      "             BF10  power  \n",
      "T-test  1.164e+05    1.0  \n",
      "              T  dof alternative     p-val          CI95%   cohen-d   BF10  \\\n",
      "T-test -1.41325   28   two-sided  0.168603  [-0.05, 0.01]  0.516046  0.726   \n",
      "\n",
      "           power  \n",
      "T-test  0.276367  \n",
      "                T  dof alternative         p-val        CI95%  cohen-d  \\\n",
      "T-test  10.230279   28   two-sided  5.808779e-11  [0.06, 0.1]  3.73557   \n",
      "\n",
      "            BF10  power  \n",
      "T-test  9.48e+07    1.0  \n"
     ]
    }
   ],
   "source": [
    "effective_d = data.loc[data.house_code == 'P-02', 'effective_dose_[mSv/y]']\n",
    "time_h = data.loc[data.house_code == 'P-02', 'effective_dose_[mSv/y]']\n",
    "effective_d1 = effective_d[0:15]\n",
    "effective_d2 = effective_d[15:30]\n",
    "effective_d3 = effective_d[30:47]\n",
    "\n",
    "\n",
    "\n",
    "print(pg.ttest(x=effective_d1, y=effective_d2, alternative='two-sided', correction=False))\n",
    "print(pg.ttest(x=effective_d1, y=effective_d3, alternative='two-sided', correction=False))\n",
    "print(pg.ttest(x=effective_d2, y=effective_d3, alternative='two-sided', correction=False))"
   ]
  },
  {
   "cell_type": "code",
   "execution_count": 286,
   "metadata": {},
   "outputs": [
    {
     "data": {
      "text/plain": [
       "<AxesSubplot:xlabel='hour', ylabel='effective_dose_[mSv/y]'>"
      ]
     },
     "execution_count": 286,
     "metadata": {},
     "output_type": "execute_result"
    },
    {
     "data": {
      "image/png": "[encoded data removed]",
      "text/plain": [
       "<Figure size 640x480 with 1 Axes>"
      ]
     },
     "metadata": {},
     "output_type": "display_data"
    }
   ],
   "source": [
    "bloque_A4 = data[(data['Casa']=='A')]\n",
    "sns.scatterplot(data=bloque_A4, x = 'hour', y = 'effective_dose_[mSv/y]',hue = 'day')"
   ]
  },
  {
   "cell_type": "code",
   "execution_count": 287,
   "metadata": {},
   "outputs": [],
   "source": [
    "pat_28 = data[(data['Casa']=='PAT 28')]"
   ]
  },
  {
   "cell_type": "code",
   "execution_count": 288,
   "metadata": {},
   "outputs": [],
   "source": [
    "pat_32 = data[(data['Casa']=='PAT 32')]"
   ]
  },
  {
   "cell_type": "code",
   "execution_count": 289,
   "metadata": {},
   "outputs": [],
   "source": [
    "pat_33 = data[(data['Casa']=='PAT 33')]"
   ]
  },
  {
   "cell_type": "code",
   "execution_count": 290,
   "metadata": {},
   "outputs": [],
   "source": [
    "pat_1 = data[(data['Casa']=='PAT 1')]"
   ]
  },
  {
   "cell_type": "markdown",
   "metadata": {},
   "source": [
    "# Lineal model"
   ]
  },
  {
   "cell_type": "code",
   "execution_count": 291,
   "metadata": {},
   "outputs": [],
   "source": [
    "age_build = data['age']\n",
    "ventilation = data['ventilacion']\n",
    "time_interval = data['time_period']\n",
    "#features = ['age','ventilacion','time_period']\n",
    "#features = data[features]"
   ]
  },
  {
   "cell_type": "code",
   "execution_count": 292,
   "metadata": {},
   "outputs": [],
   "source": [
    "#label encoder to change countries in numbers\n",
    "#encoder = preprocessing.LabelEncoder()\n",
    "#features_encoded = encoder.fit_transform(features)\n",
    "\n",
    "#create 30 elements for the dataset\n",
    "#age_elements,ventilacion_1,timep_elements = [random.choice(features_encoded) for i in range(len(data))]\n",
    "#data['age_elements','ventilacion','time_period'] = age_elements, ventilacion_1, timep_elements"
   ]
  },
  {
   "cell_type": "code",
   "execution_count": 293,
   "metadata": {},
   "outputs": [],
   "source": [
    "#convert categorical variables into number\n",
    "#countries = ['EC','CO','BR','MX'] # countries\n",
    "\n",
    "age_build = data['age']\n",
    "\n",
    "#label encoder to change countries in numbers\n",
    "encoder = preprocessing.LabelEncoder()\n",
    "agebuild_encoded = encoder.fit_transform(age_build)\n",
    "\n",
    "#create 30 elements for the dataset\n",
    "age_elements = [random.choice(agebuild_encoded) for i in range(len(data))]\n",
    "data['age_elements'] = age_elements\n"
   ]
  },
  {
   "cell_type": "code",
   "execution_count": 294,
   "metadata": {},
   "outputs": [],
   "source": [
    "ventilation = data['ventilacion']\n",
    "\n",
    "encoder = preprocessing.LabelEncoder()\n",
    "ventilation_encoded = encoder.fit_transform(ventilation)\n",
    "\n",
    "#create 30 elements for the dataset\n",
    "ventilation_elements = [random.choice(ventilation_encoded) for i in range(len(data))]\n",
    "data['ventilation_elements'] = ventilation_elements\n"
   ]
  },
  {
   "cell_type": "code",
   "execution_count": null,
   "metadata": {},
   "outputs": [],
   "source": []
  },
  {
   "cell_type": "code",
   "execution_count": 295,
   "metadata": {},
   "outputs": [
    {
     "data": {
      "text/plain": [
       "270"
      ]
     },
     "execution_count": 295,
     "metadata": {},
     "output_type": "execute_result"
    }
   ],
   "source": [
    "len(ventilation_elements)\n"
   ]
  },
  {
   "cell_type": "code",
   "execution_count": 296,
   "metadata": {},
   "outputs": [],
   "source": [
    "time_interval = data['clima']\n",
    "\n",
    "encoder = preprocessing.LabelEncoder()\n",
    "timei_encoded = encoder.fit_transform(time_interval)\n",
    "\n",
    "#create 30 elements for the dataset\n",
    "timei_elements = [random.choice(timei_encoded) for i in range(len(data))]\n",
    "data['timei_elements'] = timei_elements\n"
   ]
  },
  {
   "cell_type": "code",
   "execution_count": null,
   "metadata": {},
   "outputs": [],
   "source": []
  },
  {
   "cell_type": "code",
   "execution_count": 297,
   "metadata": {},
   "outputs": [
    {
     "data": {
      "text/plain": [
       "Casa                              object\n",
       "house_code                        object\n",
       "hour                               int64\n",
       "day                               object\n",
       "day_model                          int64\n",
       "Hora                              object\n",
       "[]_RADON_(pCi/L)                 float64\n",
       "[]_RADON_(Bq/m3)                 float64\n",
       "effective_dose_[mSv/y]           float64\n",
       "20_hours_effective_dose_[mSv]    float64\n",
       "Temperatura_(C)                  float64\n",
       "clima                             object\n",
       "age                               object\n",
       "ventilacion                       object\n",
       "time_period                       object\n",
       "age_elements                       int64\n",
       "ventilation_elements               int64\n",
       "timei_elements                     int64\n",
       "dtype: object"
      ]
     },
     "execution_count": 297,
     "metadata": {},
     "output_type": "execute_result"
    }
   ],
   "source": [
    "y = data.dtypes\n",
    "y"
   ]
  },
  {
   "cell_type": "code",
   "execution_count": 298,
   "metadata": {},
   "outputs": [
    {
     "data": {
      "text/plain": [
       "array([[ 1. ,  1. ,  1. ,  2. , 23.8,  2. ],\n",
       "       [ 2. ,  1. ,  1. ,  6. , 23.8,  2. ],\n",
       "       [ 3. ,  1. ,  1. ,  3. , 21.1,  0. ],\n",
       "       ...,\n",
       "       [13. ,  3. ,  1. ,  6. , 22.6,  2. ],\n",
       "       [14. ,  3. ,  1. ,  3. , 22.6,  1. ],\n",
       "       [15. ,  3. ,  1. ,  6. , 22.2,  1. ]])"
      ]
     },
     "execution_count": 298,
     "metadata": {},
     "output_type": "execute_result"
    }
   ],
   "source": [
    "#obtaining data for training x= features, y=effective dose\n",
    "feature_cols = ['hour','day_model', 'age_elements','timei_elements','Temperatura_(C)','ventilation_elements']\n",
    "x  = np.array(data[feature_cols])\n",
    "\n",
    "#y = data['effective_dose_[mSv/y]']\n",
    "y = np.array(data['effective_dose_[mSv/y]'])\n",
    "x"
   ]
  },
  {
   "cell_type": "code",
   "execution_count": 299,
   "metadata": {},
   "outputs": [],
   "source": [
    "X_train, X_test, Y_train, Y_test = train_test_split(x,y,test_size=0.25, random_state=0)"
   ]
  },
  {
   "cell_type": "code",
   "execution_count": 300,
   "metadata": {},
   "outputs": [
    {
     "data": {
      "text/plain": [
       "array([[ 9. ,  2. ,  1. ,  0. , 23.3,  0. ],\n",
       "       [ 6. ,  3. ,  1. ,  2. , 22.9,  1. ],\n",
       "       [ 2. ,  2. ,  1. ,  7. , 21.9,  2. ],\n",
       "       ...,\n",
       "       [13. ,  2. ,  1. ,  2. , 22.4,  0. ],\n",
       "       [ 3. ,  1. ,  1. ,  2. , 20.9,  2. ],\n",
       "       [ 8. ,  3. ,  0. ,  2. , 22.9,  2. ]])"
      ]
     },
     "execution_count": 300,
     "metadata": {},
     "output_type": "execute_result"
    }
   ],
   "source": [
    "X_train"
   ]
  },
  {
   "cell_type": "code",
   "execution_count": 301,
   "metadata": {},
   "outputs": [],
   "source": [
    "#train the model\n",
    "regressor = LinearRegression()\n",
    "regresion_train_model=regressor.fit(X_train, Y_train)\n",
    "#linear_model = GLM(family=Gaussian())\n",
    "#linear_model.fit(X_train, Y_train)"
   ]
  },
  {
   "cell_type": "code",
   "execution_count": 302,
   "metadata": {},
   "outputs": [
    {
     "data": {
      "text/plain": [
       "array([-0.0018242 ,  0.04769792,  0.05087153,  0.00598112, -0.01951736,\n",
       "        0.03716824])"
      ]
     },
     "execution_count": 302,
     "metadata": {},
     "output_type": "execute_result"
    }
   ],
   "source": [
    "regressor.coef_"
   ]
  },
  {
   "cell_type": "code",
   "execution_count": 303,
   "metadata": {},
   "outputs": [],
   "source": [
    "intercept = regresion_train_model.intercept_"
   ]
  },
  {
   "cell_type": "code",
   "execution_count": 304,
   "metadata": {},
   "outputs": [],
   "source": [
    "y_pred = regressor.predict(X_test)"
   ]
  },
  {
   "cell_type": "code",
   "execution_count": 305,
   "metadata": {},
   "outputs": [
    {
     "ename": "ValueError",
     "evalue": "continuous is not supported",
     "output_type": "error",
     "traceback": [
      "\u001b[0;31m---------------------------------------------------------------------------\u001b[0m",
      "\u001b[0;31mValueError\u001b[0m                                Traceback (most recent call last)",
      "\u001b[0;32m/tmp/ipykernel_492/2547586006.py\u001b[0m in \u001b[0;36m<module>\u001b[0;34m\u001b[0m\n\u001b[1;32m      1\u001b[0m \u001b[0;32mfrom\u001b[0m \u001b[0msklearn\u001b[0m \u001b[0;32mimport\u001b[0m \u001b[0mmetrics\u001b[0m\u001b[0;34m\u001b[0m\u001b[0;34m\u001b[0m\u001b[0m\n\u001b[0;32m----> 2\u001b[0;31m \u001b[0mprint\u001b[0m\u001b[0;34m(\u001b[0m\u001b[0;34m'Accuracy'\u001b[0m\u001b[0;34m,\u001b[0m \u001b[0mmetrics\u001b[0m\u001b[0;34m.\u001b[0m\u001b[0maccuracy_score\u001b[0m\u001b[0;34m(\u001b[0m\u001b[0mY_test\u001b[0m\u001b[0;34m,\u001b[0m\u001b[0my_pred\u001b[0m\u001b[0;34m)\u001b[0m\u001b[0;34m)\u001b[0m\u001b[0;34m\u001b[0m\u001b[0;34m\u001b[0m\u001b[0m\n\u001b[0m",
      "\u001b[0;32m~/anaconda3/envs/radon_project/lib/python3.7/site-packages/sklearn/metrics/_classification.py\u001b[0m in \u001b[0;36maccuracy_score\u001b[0;34m(y_true, y_pred, normalize, sample_weight)\u001b[0m\n\u001b[1;32m    209\u001b[0m \u001b[0;34m\u001b[0m\u001b[0m\n\u001b[1;32m    210\u001b[0m     \u001b[0;31m# Compute accuracy for each possible representation\u001b[0m\u001b[0;34m\u001b[0m\u001b[0;34m\u001b[0m\u001b[0;34m\u001b[0m\u001b[0m\n\u001b[0;32m--> 211\u001b[0;31m     \u001b[0my_type\u001b[0m\u001b[0;34m,\u001b[0m \u001b[0my_true\u001b[0m\u001b[0;34m,\u001b[0m \u001b[0my_pred\u001b[0m \u001b[0;34m=\u001b[0m \u001b[0m_check_targets\u001b[0m\u001b[0;34m(\u001b[0m\u001b[0my_true\u001b[0m\u001b[0;34m,\u001b[0m \u001b[0my_pred\u001b[0m\u001b[0;34m)\u001b[0m\u001b[0;34m\u001b[0m\u001b[0;34m\u001b[0m\u001b[0m\n\u001b[0m\u001b[1;32m    212\u001b[0m     \u001b[0mcheck_consistent_length\u001b[0m\u001b[0;34m(\u001b[0m\u001b[0my_true\u001b[0m\u001b[0;34m,\u001b[0m \u001b[0my_pred\u001b[0m\u001b[0;34m,\u001b[0m \u001b[0msample_weight\u001b[0m\u001b[0;34m)\u001b[0m\u001b[0;34m\u001b[0m\u001b[0;34m\u001b[0m\u001b[0m\n\u001b[1;32m    213\u001b[0m     \u001b[0;32mif\u001b[0m \u001b[0my_type\u001b[0m\u001b[0;34m.\u001b[0m\u001b[0mstartswith\u001b[0m\u001b[0;34m(\u001b[0m\u001b[0;34m\"multilabel\"\u001b[0m\u001b[0;34m)\u001b[0m\u001b[0;34m:\u001b[0m\u001b[0;34m\u001b[0m\u001b[0;34m\u001b[0m\u001b[0m\n",
      "\u001b[0;32m~/anaconda3/envs/radon_project/lib/python3.7/site-packages/sklearn/metrics/_classification.py\u001b[0m in \u001b[0;36m_check_targets\u001b[0;34m(y_true, y_pred)\u001b[0m\n\u001b[1;32m    102\u001b[0m     \u001b[0;31m# No metrics support \"multiclass-multioutput\" format\u001b[0m\u001b[0;34m\u001b[0m\u001b[0;34m\u001b[0m\u001b[0;34m\u001b[0m\u001b[0m\n\u001b[1;32m    103\u001b[0m     \u001b[0;32mif\u001b[0m \u001b[0my_type\u001b[0m \u001b[0;32mnot\u001b[0m \u001b[0;32min\u001b[0m \u001b[0;34m[\u001b[0m\u001b[0;34m\"binary\"\u001b[0m\u001b[0;34m,\u001b[0m \u001b[0;34m\"multiclass\"\u001b[0m\u001b[0;34m,\u001b[0m \u001b[0;34m\"multilabel-indicator\"\u001b[0m\u001b[0;34m]\u001b[0m\u001b[0;34m:\u001b[0m\u001b[0;34m\u001b[0m\u001b[0;34m\u001b[0m\u001b[0m\n\u001b[0;32m--> 104\u001b[0;31m         \u001b[0;32mraise\u001b[0m \u001b[0mValueError\u001b[0m\u001b[0;34m(\u001b[0m\u001b[0;34m\"{0} is not supported\"\u001b[0m\u001b[0;34m.\u001b[0m\u001b[0mformat\u001b[0m\u001b[0;34m(\u001b[0m\u001b[0my_type\u001b[0m\u001b[0;34m)\u001b[0m\u001b[0;34m)\u001b[0m\u001b[0;34m\u001b[0m\u001b[0;34m\u001b[0m\u001b[0m\n\u001b[0m\u001b[1;32m    105\u001b[0m \u001b[0;34m\u001b[0m\u001b[0m\n\u001b[1;32m    106\u001b[0m     \u001b[0;32mif\u001b[0m \u001b[0my_type\u001b[0m \u001b[0;32min\u001b[0m \u001b[0;34m[\u001b[0m\u001b[0;34m\"binary\"\u001b[0m\u001b[0;34m,\u001b[0m \u001b[0;34m\"multiclass\"\u001b[0m\u001b[0;34m]\u001b[0m\u001b[0;34m:\u001b[0m\u001b[0;34m\u001b[0m\u001b[0;34m\u001b[0m\u001b[0m\n",
      "\u001b[0;31mValueError\u001b[0m: continuous is not supported"
     ]
    }
   ],
   "source": [
    "\n",
    "from sklearn import metrics\n",
    "print('Accuracy', metrics.accuracy_score(Y_test,y_pred))"
   ]
  },
  {
   "cell_type": "code",
   "execution_count": null,
   "metadata": {},
   "outputs": [
    {
     "data": {
      "text/plain": [
       "0.06317160779154951"
      ]
     },
     "execution_count": 274,
     "metadata": {},
     "output_type": "execute_result"
    }
   ],
   "source": [
    "regressor.score(X_test,Y_test)"
   ]
  }
 ],
 "metadata": {
  "kernelspec": {
   "display_name": "Python 3.7.13 ('radon_project')",
   "language": "python",
   "name": "python3"
  },
  "language_info": {
   "codemirror_mode": {
    "name": "ipython",
    "version": 3
   },
   "file_extension": ".py",
   "mimetype": "text/x-python",
   "name": "python",
   "nbconvert_exporter": "python",
   "pygments_lexer": "ipython3",
   "version": "3.7.13"
  },
  "orig_nbformat": 4,
  "vscode": {
   "interpreter": {
    "hash": "da1cd2035f5286fe334803e7b3aaf4d6fec793d2b37c9f3020ac8a3da46aa9b9"
   }
  }
 },
 "nbformat": 4,
 "nbformat_minor": 2
}
